{
  "metadata": {
    "language_info": {
      "codemirror_mode": {
        "name": "python",
        "version": 3
      },
      "file_extension": ".py",
      "mimetype": "text/x-python",
      "name": "python",
      "nbconvert_exporter": "python",
      "pygments_lexer": "ipython3",
      "version": "3.8"
    },
    "kernelspec": {
      "name": "python",
      "display_name": "Pyolite",
      "language": "python"
    }
  },
  "nbformat_minor": 4,
  "nbformat": 4,
  "cells": [
    {
      "cell_type": "markdown",
      "source": "# My Jupyter Notebook on IBM Watson Studio",
      "metadata": {
        "tags": []
      }
    },
    {
      "cell_type": "markdown",
      "source": "Name: **Rhuan Fracalossi Melo**  \nCurrent Occupation: Marine Engineer",
      "metadata": {}
    },
    {
      "cell_type": "markdown",
      "source": "*I am interested in Data Science because I really would like to develop and publish some reports about marine engineering and vessels around the world. I belive that, with data and a good methodology, a lot of insights could be developed.*",
      "metadata": {}
    },
    {
      "cell_type": "markdown",
      "source": "### Let's suppose a car spent 2 hours from Los Angeles to Orlando. The mean speed during the travel was 72 kilometers per hour. What is the distance between these cities? Next cell will solve this problem showing that velocity is the relation between travelled distance and time spent during the trip.",
      "metadata": {}
    },
    {
      "cell_type": "code",
      "source": "Speed = 72\nTime = 2\nDistance = Speed/Time\nprint(Distance,'km')",
      "metadata": {
        "trusted": true
      },
      "execution_count": 12,
      "outputs": [
        {
          "name": "stdout",
          "text": "36.0 km\n",
          "output_type": "stream"
        }
      ]
    },
    {
      "cell_type": "markdown",
      "source": "Hello\n\n---\n\nFive thing about me:\n\n* My name is Rhuan\n> I'm enjoying learn Data Science\n\n***\n\nNice to meet you, guys",
      "metadata": {}
    },
    {
      "cell_type": "code",
      "source": "",
      "metadata": {},
      "execution_count": null,
      "outputs": []
    }
  ]
}